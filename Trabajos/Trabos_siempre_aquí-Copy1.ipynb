{
 "cells": [
  {
   "cell_type": "markdown",
   "id": "49f58b81-3a6d-48df-a190-4aeafb5e3fcf",
   "metadata": {},
   "source": [
    "# Obtener funciones"
   ]
  },
  {
   "cell_type": "code",
   "execution_count": 91,
   "id": "3fcc4eb2-1bab-4838-be8c-17a0301ff6cc",
   "metadata": {},
   "outputs": [
    {
     "name": "stdout",
     "output_type": "stream",
     "text": [
      "The autoreload extension is already loaded. To reload it, use:\n",
      "  %reload_ext autoreload\n"
     ]
    }
   ],
   "source": [
    "%load_ext autoreload\n",
    "%autoreload 2"
   ]
  },
  {
   "cell_type": "code",
   "execution_count": 31,
   "id": "fc5f4d5b-d129-4090-b437-868678d1e288",
   "metadata": {},
   "outputs": [],
   "source": [
    "\n",
    "import Integral as In\n",
    "import numpy as np\n",
    "from scipy.integrate import dblquad"
   ]
  },
  {
   "cell_type": "code",
   "execution_count": 22,
   "id": "c8297f73-bb4e-4f70-8d06-ee15955424f9",
   "metadata": {},
   "outputs": [],
   "source": [
    "h = 0.001\n",
    "f = lambda x: ((x+2)*(x-2))/((x-3)*(x-4))"
   ]
  },
  {
   "cell_type": "code",
   "execution_count": 23,
   "id": "86ba8a8f-17cc-4048-bf29-19423eed2580",
   "metadata": {},
   "outputs": [
    {
     "data": {
      "text/plain": [
       "-2.4444446165112765"
      ]
     },
     "execution_count": 23,
     "metadata": {},
     "output_type": "execute_result"
    }
   ],
   "source": [
    "In.D_central(6,h,f)"
   ]
  },
  {
   "cell_type": "code",
   "execution_count": 37,
   "id": "3f07ef71-38cd-4bef-831e-2c12a0a0ed77",
   "metadata": {},
   "outputs": [
    {
     "data": {
      "text/plain": [
       "5.333333333333333"
      ]
     },
     "execution_count": 37,
     "metadata": {},
     "output_type": "execute_result"
    }
   ],
   "source": [
    "f(6)"
   ]
  },
  {
   "cell_type": "code",
   "execution_count": 41,
   "id": "bdd81e83-e901-4349-9470-7b53d0f0d525",
   "metadata": {
    "jp-MarkdownHeadingCollapsed": true
   },
   "outputs": [
    {
     "name": "stdout",
     "output_type": "stream",
     "text": [
      "0.7455719918300938\n"
     ]
    }
   ],
   "source": [
    "l=In.I_trapecio([0,1],lambda x: np.exp(-x**2),8)\n",
    "print(l)"
   ]
  },
  {
   "cell_type": "code",
   "execution_count": 55,
   "id": "06397b3a-768e-4b6b-90cd-1ca027c0f55f",
   "metadata": {},
   "outputs": [
    {
     "data": {
      "text/plain": [
       "12"
      ]
     },
     "execution_count": 55,
     "metadata": {},
     "output_type": "execute_result"
    }
   ],
   "source": [
    "def f(x,y):\n",
    "    return x*y\n",
    "\n",
    "f(3,4)\n"
   ]
  },
  {
   "cell_type": "code",
   "execution_count": 102,
   "id": "03a97128-922d-4501-8f8b-0106942b00fc",
   "metadata": {},
   "outputs": [
    {
     "name": "stdout",
     "output_type": "stream",
     "text": [
      "p0 --> 0.6660254037844386 p1--> 1.0660254037844386\n",
      "p0 --> 0.1420201433256688 p1--> 0.5420201433256688\n"
     ]
    },
    {
     "data": {
      "text/plain": [
       "(array([-0.86113631, -0.33998104,  0.33998104,  0.86113631]),\n",
       " array([0.34785485, 0.65214515, 0.65214515, 0.34785485]))"
      ]
     },
     "execution_count": 102,
     "metadata": {},
     "output_type": "execute_result"
    }
   ],
   "source": [
    "def RecBonnet(n,x):\n",
    "    p0, pn = 1,x\n",
    "    for j in range(1,n):\n",
    "        pn1 = ((2*j+1)*x*pn - j*p0)/(j+1.0)\n",
    "        p0,pn = pn,pn1\n",
    "    return p0,pn\n",
    "\n",
    "def legendre(n, x):\n",
    "    if n==0:\n",
    "        valn = 1\n",
    "        dvaln = 0\n",
    "    elif n==1:\n",
    "        valn = x\n",
    "        dvaln = 1\n",
    "    else:\n",
    "        valn_m1, valn = RecBonnet(n, x)\n",
    "        dvaln = n*(valn_m1-x*valn)/(1.-x**2)\n",
    "    return valn, dvaln\n",
    "\n",
    "\n",
    "def legraiz(n, delt=.2, error='E_rel2', tol=1e-5):\n",
    "    raices = np.zeros(n)\n",
    "    npos = n//2 \n",
    "    \n",
    "    f = lambda x: legendre(n, x)[0]  \n",
    "    for i in range(npos):\n",
    "        p0 = np.cos(np.pi*(4*i+3)/(4*n+2)) - delt \n",
    "        p1 = p0 + 2*delt\n",
    "        print('p0 -->', p0,'p1-->', p1)\n",
    "        raiz = rr.secante2([p0, p1], f, error, tol)\n",
    "        raices[i] = -raiz\n",
    "        raices[-1-i] = raiz\n",
    "    return raices\n",
    "\n",
    "def Gus_param(n, delt=0.2, error='E_rel2', tol=1e-05): \n",
    "    xraiz = legraiz(n, delt, error, tol)\n",
    "    Pn = legendre(n, xraiz)[1]\n",
    "    W = 2/(1-xraiz**2)/Pn**2\n",
    "    return xraiz, W\n",
    "Gus_param(4)"
   ]
  },
  {
   "cell_type": "code",
   "execution_count": 4,
   "id": "3ce6e872-572d-4a5c-97c6-78494fe83c25",
   "metadata": {},
   "outputs": [
    {
     "name": "stdout",
     "output_type": "stream",
     "text": [
      "inf\n"
     ]
    },
    {
     "name": "stderr",
     "output_type": "stream",
     "text": [
      "/tmp/ipykernel_2514/1122634417.py:37: RuntimeWarning: divide by zero encountered in divide\n",
      "  W = 2/(1-xraiz**2)/Pn**2\n"
     ]
    }
   ],
   "source": [
    "def I_Gauss2D(I2,I,f,n = 2):\n",
    "    \"\"\"\n",
    "    Integral doble Gauss\n",
    "    I: Intervalo de y, con funciones.\n",
    "    I2: Intervalo de x\n",
    "    f: la funcion f(x,y)\n",
    "    n: El gadro del polinomio de Legender\n",
    "    \"\"\"\n",
    "    D2 = 0\n",
    "    xr,W = Gus_param(n, delt=.2, error='E_rel2', tol=1e-05)\n",
    "    for i in range(1,n):\n",
    "        for j in range(1,n):\n",
    "            u2 = (I2[1]+I2[0])/2 + ((I2[1]-I2[0])*xr[j])/2\n",
    "            u = (I[1]+I[0])/2 + ((I[1]-I[0])*xr[i])/2\n",
    "            D2 = D2 + (W[j]**2)*f(u2,u)\n",
    "    return D2*(I2[1]-I2[0])*(I[1]-I[0])/2\n",
    "print(I_Gauss2D([0,1],[1,3], lambda x,y : 2*x*y, n=2))\n",
    "#print(I_Gauss2D([0,1.21341166],[lambda x: 3*x - x**2, lambda x: x**4], lambda x,y : x, n=2))\n",
    "\n"
   ]
  },
  {
   "cell_type": "code",
   "execution_count": 6,
   "id": "3a458af2-76be-4b73-870f-e4e7a7138528",
   "metadata": {},
   "outputs": [
    {
     "name": "stdout",
     "output_type": "stream",
     "text": [
      "2.57735027\n"
     ]
    },
    {
     "data": {
      "text/plain": [
       "4.0"
      ]
     },
     "execution_count": 6,
     "metadata": {},
     "output_type": "execute_result"
    }
   ],
   "source": [
    "print(In.I_Gauss([1.,1.],[1,3],[-0.57735027 ,0.57735027], lambda x: x,2))\n",
    "def I_Gauss(c,a,xr, f,n =2):\n",
    "    I_G = 0\n",
    "    for i in range(0,n):\n",
    "        x = (a[1]+a[0])/2 + (a[1]-a[0])*xr[i]/2\n",
    "        I_G = I_G + c[i]*f(x)\n",
    "        \n",
    "    return ((a[1]-a[0])*I_G)/2\n",
    "I_Gauss([1.,1.],[1,3],[-0.57735027 ,0.57735027], lambda x: x,2)"
   ]
  },
  {
   "cell_type": "markdown",
   "id": "173eb2ed-8f63-44aa-89c8-9c38df31668e",
   "metadata": {},
   "source": [
    "# Dividir intervalos"
   ]
  },
  {
   "cell_type": "code",
   "execution_count": 4,
   "id": "e9cc86df-1193-409f-a2c8-70e5c064b1cc",
   "metadata": {},
   "outputs": [],
   "source": [
    "def es_flotante(variable):\n",
    "    \"\"\"\n",
    "    -----------------------\n",
    "    Verificador de numeros\n",
    "    ------------------------\n",
    "    \n",
    "    Parametros:\n",
    "    float: una valor de tipo int o flotante\n",
    "    \n",
    "    -----------------------------------\n",
    "    Salida: Regresa un verdadero si cumple con un numero y un falso si es un caracter\n",
    "    ----------------------------------\n",
    "    \"\"\"\n",
    "    try:\n",
    "        float(variable)\n",
    "        return True\n",
    "\n",
    "    except:\n",
    "        return False\n",
    "\n",
    "#Meter intervalo\n",
    "\n",
    "def intr_int():\n",
    "    \"\"\"\n",
    "    --------------------\n",
    "    Ingresar Parametros\n",
    "    --------------------\n",
    "\n",
    "    Parametros:\n",
    "    a: El intervalo menor\n",
    "    b: El intervalos mayor\n",
    "    \n",
    "    -----------------------\n",
    "    Salida: Regresa una lista con los intervalos\n",
    "    -----------------------\n",
    "    \"\"\"\n",
    "    \n",
    "    a = input(\"Ingrese el intervalo izquierdo: \")\n",
    "    b = input(\"Ingrese el intervalo derecho: \")\n",
    "    return [a,b]\n",
    "\n",
    "\n",
    "#Esta funcion se encarga de ver que el producto de las dos funciones se menor que cero\n",
    "\n",
    "def sigma(funcion, x, tol = 1e-4):\n",
    "    \"\"\"\n",
    "    --------------------------------------\n",
    "    Retrorno de sigo evaluado en funcion\n",
    "    --------------------------------------\n",
    "    \n",
    "    Parametros:\n",
    "    f: Una funcion lambda o def, la cual sera nuestra función\n",
    "    x: Nuestras variables que se encargaran de evaluar nuestra función\n",
    "\n",
    "    -------------------------------------------------------------\n",
    "    Salida: Regresa -1 si f(a)*f(b) es menor y 1 si es mayor\n",
    "    -------------------------------------------------------------\n",
    "    \"\"\"\n",
    "\n",
    "    a, b = x[0], x[1]\n",
    "    sigm = 1 if funcion(a)*funcion(b) > 0 else -1\n",
    "    if funcion(a)*funcion(b) > 0:\n",
    "        sigm = 1\n",
    "    elif (funcion(a)*funcion(b) == 0 ) or funcion(a)*funcion(b) <= tol:\n",
    "        sigm = 0\n",
    "    else: \n",
    "        sigm = -1\n",
    "    return sigm\n",
    "\n",
    "#Esta se encarga de guardar los intervalos donde exista una posible raiz\n",
    "\n",
    "\n",
    "def localizador(f,x0,tol = 1e-4, Ni = 100):\n",
    "    \"\"\"\n",
    "    ----------------------------------------------------\n",
    "    Busca las posibles raices en una funcion\n",
    "    ----------------------------------------------------\n",
    "    Parametros:\n",
    "    f: Funcion lambda o def, f(x).\n",
    "    intervalo: los extremos del intervalo a analizar\n",
    "    Nint: La cantidad de puntos a partir\n",
    "\n",
    "    ----------------------------------------------------------------------------------------------\n",
    "    Salida: Una lista que aguarda varias posiciones para nuestras posibles raices, la cual alberga otra lista con dos posiciones donde se encuentra una raiz\n",
    "    ----------------------------------------------------------------------------------------------------\n",
    "    \n",
    "    \"\"\"\n",
    "    x1 = (x0[1]-x0[0])/Ni\n",
    "    x2 = []\n",
    "    x3 = x0[0] + x1\n",
    "    x4 = x3\n",
    "    x2.append(x3)\n",
    "    for i in range(Ni):\n",
    "        x4 = x4 + x1\n",
    "        x2.append(x4)\n",
    "    localiz = []\n",
    "    for i in range(1, Ni):\n",
    "        comparar = [x2[i-1],x2[i]]\n",
    "        if sigma(f, comparar, tol) < 0 or sigma(f, comparar, tol) == 0:\n",
    "            localiz.append(comparar)\n",
    "    return localiz\n"
   ]
  },
  {
   "cell_type": "code",
   "execution_count": 80,
   "id": "cda1f58f-5bfe-414c-8976-36d87d4e6ec7",
   "metadata": {},
   "outputs": [
    {
     "data": {
      "text/plain": [
       "[-1.732050807559437, 1.7320508075905212]"
      ]
     },
     "execution_count": 80,
     "metadata": {},
     "output_type": "execute_result"
    }
   ],
   "source": [
    "rr.raiz_N([-7,7], lambda x: (1-np.cos(x))/x**2)\n",
    "rr.raiz_secante1([0,4], lambda x: x**2-7*x+12)\n",
    "rr.raiz_secante2([-2,2], lambda x: x**2-3)"
   ]
  },
  {
   "cell_type": "code",
   "execution_count": 26,
   "id": "bfb2489e-283b-410a-834c-6af942236be1",
   "metadata": {},
   "outputs": [],
   "source": [
    "def secante2(x,funcion, errores = 'E_ab',tol = 1e-4):\n",
    "    \"\"\"\n",
    "    El metodo de la secante para una sola raiz\n",
    "    \n",
    "    Los parametros que cuenta:\n",
    "    x: Recibe dos parametros, usualmete los extremos del intervalo [a,b] a analizar.\n",
    "    f: La funcion lambda o el objeto def , estos refresentan la funcion que se analizara.\n",
    "\n",
    "    errores: Tipos de errores, E_ab (error absoluto), E_rel (error relativo), \n",
    "    E_RPD (error diferencia de procentaje relativo), E_rel3\n",
    "    (error de diferencia y cambio relativo), E_dis (error de sitancia), E_rel2 (error relativo para convergencias cercanas a cero).\n",
    "    \n",
    "    tol: la presicion a buscar, por defecto es en 1e-4\n",
    "\n",
    "    ------------------------\n",
    "    Salida: raiz\n",
    "    ------------------------\n",
    "\n",
    "    \"\"\"\n",
    "    if sigma(funcion, x) == -1 or sigma(funcion, x) == 0:\n",
    "        operador = True\n",
    "        raiz = 0\n",
    "        if es_flotante(x[0]) == True and es_flotante(x[1]) == True:    \n",
    "            w = [float(x[i]) for i in range(2)]\n",
    "            while operador:\n",
    "                p = w[1]-(funcion(w[1]) * (w[1] - w[0]))/(funcion(w[1])-funcion(w[0]))\n",
    "                if error(errores)(w[0],w[1]) < tol:\n",
    "                    #print(\"La raiz de su función es: \", p)\n",
    "                    raiz = p\n",
    "                    operador = False\n",
    "                w[0] = w[1]\n",
    "                w[1] = p\n",
    "            return raiz\n",
    "        else:\n",
    "            print(\"Valores erroneos\")\n",
    "    else:\n",
    "        raiz = None\n",
    "        return raiz\n",
    "def raiz_secante2(x1, f, errores = 'E_ab', tol = 1e-4):\n",
    "    \"\"\"\n",
    "    El metodo de la secante 2 para una o más raices\n",
    "\n",
    "    Los parametros que cuenta:\n",
    "    x1: Recibe dos parametros, usualmete los extremos del intervalo [a,b] a analizar.\n",
    "    f: La funcion lambda o el objeto def , estos refresentan la funcion que se analizara.\n",
    "\n",
    "    errores: Tipos de errores, E_ab (error absoluto), E_rel (error relativo), \n",
    "    E_RPD (error diferencia de procentaje relativo), E_rel3\n",
    "    (error de diferencia y cambio relativo), E_dis (error de sitancia), E_rel2 (error relativo para convergencias cercanas a cero).\n",
    "    \n",
    "    tol: la presicion a buscar, por defecto es en 1e-4\n",
    "\n",
    "    ------------------------\n",
    "    Salida: raices\n",
    "    ------------------------\n",
    "    \"\"\"\n",
    "    if es_flotante(x1[0]) == True and es_flotante(x1[1]) == True:\n",
    "        w = [float(x1[i]) for i in range(2)]\n",
    "        raiz = []\n",
    "        if sigma(f,w) == -1 or sigma(f,w) == 0: \n",
    "            raiz_loop = localizador(f, w)\n",
    "            for i in raiz_loop:\n",
    "                p = secante_2(i, f, errores, tol)\n",
    "                raiz.append(p)\n",
    "            return raiz\n",
    "        else:\n",
    "            raiz.append(None)\n",
    "            return raiz\n",
    "    else:\n",
    "        print(\"Valores erroneos\")\n",
    "        "
   ]
  },
  {
   "cell_type": "code",
   "execution_count": 110,
   "id": "87e37336-626c-4169-acfc-e71f9038e766",
   "metadata": {},
   "outputs": [
    {
     "name": "stdout",
     "output_type": "stream",
     "text": [
      "[1.0]\n"
     ]
    }
   ],
   "source": [
    "import Raiz as rr\n",
    "#np.poly(2,-6,10,-6)\n",
    "l = rr.raiz_secante2([0,4], lambda x: x**2-1)\n",
    "print(l)"
   ]
  }
 ],
 "metadata": {
  "kernelspec": {
   "display_name": "Python 3 (ipykernel)",
   "language": "python",
   "name": "python3"
  },
  "language_info": {
   "codemirror_mode": {
    "name": "ipython",
    "version": 3
   },
   "file_extension": ".py",
   "mimetype": "text/x-python",
   "name": "python",
   "nbconvert_exporter": "python",
   "pygments_lexer": "ipython3",
   "version": "3.9.12"
  }
 },
 "nbformat": 4,
 "nbformat_minor": 5
}
