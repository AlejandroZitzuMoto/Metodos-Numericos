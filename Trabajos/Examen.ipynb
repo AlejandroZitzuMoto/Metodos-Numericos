{
 "cells": [
  {
   "cell_type": "code",
   "execution_count": null,
   "id": "aa1b3ea3-efa3-44e4-907a-87bbbd16314e",
   "metadata": {},
   "outputs": [],
   "source": [
    "#from Raiz.Raices.comandos import biseccion"
   ]
  },
  {
   "cell_type": "code",
   "execution_count": 1,
   "id": "fd3dfa26-bc18-4172-b309-5579d2254261",
   "metadata": {},
   "outputs": [
    {
     "ename": "ModuleNotFoundError",
     "evalue": "No module named 'biseccion'",
     "output_type": "error",
     "traceback": [
      "\u001b[0;31m---------------------------------------------------------------------------\u001b[0m",
      "\u001b[0;31mModuleNotFoundError\u001b[0m                       Traceback (most recent call last)",
      "Cell \u001b[0;32mIn[1], line 1\u001b[0m\n\u001b[0;32m----> 1\u001b[0m \u001b[38;5;28;01mimport\u001b[39;00m \u001b[38;5;21;01mbiseccion\u001b[39;00m \u001b[38;5;28;01mas\u001b[39;00m \u001b[38;5;21;01mbs\u001b[39;00m\n\u001b[1;32m      2\u001b[0m \u001b[38;5;66;03m#Hacer el logico escrito de los programas y investifar como hacer una libreria en python para corregir la mia\u001b[39;00m\n",
      "\u001b[0;31mModuleNotFoundError\u001b[0m: No module named 'biseccion'"
     ]
    }
   ],
   "source": [
    "import biseccion as bs\n",
    "#Hacer el logico escrito de los programas y investifar como hacer una libreria en python para corregir la mia"
   ]
  }
 ],
 "metadata": {
  "kernelspec": {
   "display_name": "Python 3 (ipykernel)",
   "language": "python",
   "name": "python3"
  },
  "language_info": {
   "codemirror_mode": {
    "name": "ipython",
    "version": 3
   },
   "file_extension": ".py",
   "mimetype": "text/x-python",
   "name": "python",
   "nbconvert_exporter": "python",
   "pygments_lexer": "ipython3",
   "version": "3.9.12"
  }
 },
 "nbformat": 4,
 "nbformat_minor": 5
}
