{
 "cells": [
  {
   "cell_type": "markdown",
   "id": "49f58b81-3a6d-48df-a190-4aeafb5e3fcf",
   "metadata": {},
   "source": [
    "# Obtener funciones"
   ]
  },
  {
   "cell_type": "code",
   "execution_count": 41,
   "id": "3fcc4eb2-1bab-4838-be8c-17a0301ff6cc",
   "metadata": {},
   "outputs": [],
   "source": [
    "%load_ext autoreload\n",
    "%autoreload 2"
   ]
  },
  {
   "cell_type": "code",
   "execution_count": 49,
   "id": "fc5f4d5b-d129-4090-b437-868678d1e288",
   "metadata": {},
   "outputs": [],
   "source": [
    "\n",
    "import Integral as In\n",
    "import numpy as np\n",
    "import Raiz as rr\n",
    "from scipy.integrate import dblquad"
   ]
  },
  {
   "cell_type": "code",
   "execution_count": 22,
   "id": "c8297f73-bb4e-4f70-8d06-ee15955424f9",
   "metadata": {},
   "outputs": [],
   "source": [
    "h = 0.001\n",
    "f = lambda x: ((x+2)*(x-2))/((x-3)*(x-4))"
   ]
  },
  {
   "cell_type": "code",
   "execution_count": 23,
   "id": "86ba8a8f-17cc-4048-bf29-19423eed2580",
   "metadata": {},
   "outputs": [
    {
     "data": {
      "text/plain": [
       "-2.4444446165112765"
      ]
     },
     "execution_count": 23,
     "metadata": {},
     "output_type": "execute_result"
    }
   ],
   "source": [
    "In.D_central(6,h,f)"
   ]
  },
  {
   "cell_type": "code",
   "execution_count": 37,
   "id": "3f07ef71-38cd-4bef-831e-2c12a0a0ed77",
   "metadata": {},
   "outputs": [
    {
     "data": {
      "text/plain": [
       "5.333333333333333"
      ]
     },
     "execution_count": 37,
     "metadata": {},
     "output_type": "execute_result"
    }
   ],
   "source": [
    "f(6)"
   ]
  },
  {
   "cell_type": "code",
   "execution_count": 41,
   "id": "bdd81e83-e901-4349-9470-7b53d0f0d525",
   "metadata": {
    "jp-MarkdownHeadingCollapsed": true
   },
   "outputs": [
    {
     "name": "stdout",
     "output_type": "stream",
     "text": [
      "0.7455719918300938\n"
     ]
    }
   ],
   "source": [
    "l=In.I_trapecio([0,1],lambda x: np.exp(-x**2),8)\n",
    "print(l)"
   ]
  },
  {
   "cell_type": "code",
   "execution_count": 55,
   "id": "06397b3a-768e-4b6b-90cd-1ca027c0f55f",
   "metadata": {},
   "outputs": [
    {
     "data": {
      "text/plain": [
       "12"
      ]
     },
     "execution_count": 55,
     "metadata": {},
     "output_type": "execute_result"
    }
   ],
   "source": [
    "def f(x,y):\n",
    "    return x*y\n",
    "\n",
    "f(3,4)\n"
   ]
  },
  {
   "cell_type": "code",
   "execution_count": 3,
   "id": "03a97128-922d-4501-8f8b-0106942b00fc",
   "metadata": {},
   "outputs": [],
   "source": [
    "def RecBonnet(n,x):\n",
    "    p0, pn = 1,x\n",
    "    for j in range(1,n):\n",
    "        pn1 = ((2*j+1)*x*pn - j*p0)/(j+1.0)\n",
    "        p0,pn = pn,pn1\n",
    "    return p0,pn\n",
    "\n",
    "def legendre(n, x):\n",
    "    if n==0:\n",
    "        valn = 1\n",
    "        dvaln = 0\n",
    "    elif n==1:\n",
    "        valn = x\n",
    "        dvaln = 1\n",
    "    else:\n",
    "        valn_m1, valn = RecBonnet(n, x)\n",
    "        dvaln = n*(valn_m1-x*valn)/(1.-x**2)\n",
    "    return valn, dvaln\n",
    "\n",
    "\n",
    "def legraiz(n, delt=.2, error='E_rel2', tol=1e-5):\n",
    "    raices = np.zeros(n)\n",
    "    npos = n//2 \n",
    "    \n",
    "    f = lambda x: legendre(n, x)[0]  \n",
    "    for i in range(npos):\n",
    "        p0 = np.cos(np.pi*(4*i+3)/(4*n+2))  \n",
    "        p1 = p0 + delt\n",
    "        raiz = rr.biseccion([p0, p1], f, error, tol)\n",
    "        raices[i] = -raiz\n",
    "        raices[-1-i] = raiz\n",
    "    return raices\n",
    "\n",
    "def Gus_param(n, delt=0.2, error='E_rel2', tol=1e-05): \n",
    "    xraiz = legraiz(n, delt, error, tol)\n",
    "    Pn = legendre(n, xraiz)[1]\n",
    "    W = 2/(1-xraiz**2)/Pn**2\n",
    "    return xraiz, W\n"
   ]
  },
  {
   "cell_type": "code",
   "execution_count": 4,
   "id": "3ce6e872-572d-4a5c-97c6-78494fe83c25",
   "metadata": {},
   "outputs": [
    {
     "name": "stdout",
     "output_type": "stream",
     "text": [
      "inf\n"
     ]
    },
    {
     "name": "stderr",
     "output_type": "stream",
     "text": [
      "/tmp/ipykernel_2514/1122634417.py:37: RuntimeWarning: divide by zero encountered in divide\n",
      "  W = 2/(1-xraiz**2)/Pn**2\n"
     ]
    }
   ],
   "source": [
    "def I_Gauss2D(I2,I,f,n = 2):\n",
    "    \"\"\"\n",
    "    Integral doble Gauss\n",
    "    I: Intervalo de y, con funciones.\n",
    "    I2: Intervalo de x\n",
    "    f: la funcion f(x,y)\n",
    "    n: El gadro del polinomio de Legender\n",
    "    \"\"\"\n",
    "    D2 = 0\n",
    "    xr,W = Gus_param(n, delt=.2, error='E_rel2', tol=1e-05)\n",
    "    for i in range(1,n):\n",
    "        for j in range(1,n):\n",
    "            u2 = (I2[1]+I2[0])/2 + ((I2[1]-I2[0])*xr[j])/2\n",
    "            u = (I[1]+I[0])/2 + ((I[1]-I[0])*xr[i])/2\n",
    "            D2 = D2 + (W[j]**2)*f(u2,u)\n",
    "    return D2*(I2[1]-I2[0])*(I[1]-I[0])/2\n",
    "print(I_Gauss2D([0,1],[1,3], lambda x,y : 2*x*y, n=2))\n",
    "#print(I_Gauss2D([0,1.21341166],[lambda x: 3*x - x**2, lambda x: x**4], lambda x,y : x, n=2))\n",
    "\n"
   ]
  },
  {
   "cell_type": "code",
   "execution_count": 6,
   "id": "3a458af2-76be-4b73-870f-e4e7a7138528",
   "metadata": {},
   "outputs": [
    {
     "name": "stdout",
     "output_type": "stream",
     "text": [
      "2.57735027\n"
     ]
    },
    {
     "data": {
      "text/plain": [
       "4.0"
      ]
     },
     "execution_count": 6,
     "metadata": {},
     "output_type": "execute_result"
    }
   ],
   "source": [
    "print(In.I_Gauss([1.,1.],[1,3],[-0.57735027 ,0.57735027], lambda x: x,2))\n",
    "def I_Gauss(c,a,xr, f,n =2):\n",
    "    I_G = 0\n",
    "    for i in range(0,n):\n",
    "        x = (a[1]+a[0])/2 + (a[1]-a[0])*xr[i]/2\n",
    "        I_G = I_G + c[i]*f(x)\n",
    "        \n",
    "    return ((a[1]-a[0])*I_G)/2\n",
    "I_Gauss([1.,1.],[1,3],[-0.57735027 ,0.57735027], lambda x: x,2)"
   ]
  },
  {
   "cell_type": "markdown",
   "id": "173eb2ed-8f63-44aa-89c8-9c38df31668e",
   "metadata": {},
   "source": [
    "# Dividir intervalos"
   ]
  },
  {
   "cell_type": "code",
   "execution_count": null,
   "id": "b48b23f4-d2c0-4e19-ae33-7fb42435a77a",
   "metadata": {},
   "outputs": [],
   "source": [
    "import numpy as np\n",
    "def derivada(f,x):\n",
    "    x0 = np.linspace(x[0],x[1],6)\n",
    "    \n",
    "def raiz_N(x0, f, df, errores = 'E_dis', tol = 1e-5):\n",
    "    if df <= tol or df == 0:\n",
    "        if es_flotante(x0[0]) == True and es_flotante(x0[1]) == True:\n",
    "            w = [float(x0[i]) for i in range(2)]\n",
    "    \n",
    "            raiz_loop = Dominio(w,f)\n",
    "            raiz = []\n",
    "            for i in raiz_loop:\n",
    "                p = Newton(i,f,df, errores, tol)\n",
    "                raiz.append(p)\n",
    "            return raiz\n",
    "        else:\n",
    "            print(\"Valores incorrectos.\")\n",
    "    else:\n",
    "        print(\"La derivada es cero.\")\n",
    "        "
   ]
  },
  {
   "cell_type": "code",
   "execution_count": 55,
   "id": "cda1f58f-5bfe-414c-8976-36d87d4e6ec7",
   "metadata": {},
   "outputs": [
    {
     "ename": "TypeError",
     "evalue": "raiz_N() missing 1 required positional argument: 'df'",
     "output_type": "error",
     "traceback": [
      "\u001b[0;31m---------------------------------------------------------------------------\u001b[0m",
      "\u001b[0;31mTypeError\u001b[0m                                 Traceback (most recent call last)",
      "Cell \u001b[0;32mIn[55], line 1\u001b[0m\n\u001b[0;32m----> 1\u001b[0m \u001b[43mrr\u001b[49m\u001b[38;5;241;43m.\u001b[39;49m\u001b[43mraiz_N\u001b[49m\u001b[43m(\u001b[49m\u001b[43m[\u001b[49m\u001b[38;5;241;43m0\u001b[39;49m\u001b[43m,\u001b[49m\u001b[38;5;241;43m4\u001b[39;49m\u001b[43m]\u001b[49m\u001b[43m,\u001b[49m\u001b[43m \u001b[49m\u001b[38;5;28;43;01mlambda\u001b[39;49;00m\u001b[43m \u001b[49m\u001b[43mx\u001b[49m\u001b[43m:\u001b[49m\u001b[43m \u001b[49m\u001b[43mx\u001b[49m\u001b[38;5;241;43m*\u001b[39;49m\u001b[38;5;241;43m*\u001b[39;49m\u001b[38;5;241;43m2\u001b[39;49m\u001b[43m \u001b[49m\u001b[38;5;241;43m-\u001b[39;49m\u001b[38;5;241;43m7\u001b[39;49m\u001b[38;5;241;43m*\u001b[39;49m\u001b[43mx\u001b[49m\u001b[43m \u001b[49m\u001b[38;5;241;43m+\u001b[39;49m\u001b[38;5;241;43m12\u001b[39;49m\u001b[43m)\u001b[49m\n",
      "\u001b[0;31mTypeError\u001b[0m: raiz_N() missing 1 required positional argument: 'df'"
     ]
    }
   ],
   "source": [
    "rr.raiz_N([0,4], lambda x: x**2 -7*x +12)"
   ]
  },
  {
   "cell_type": "code",
   "execution_count": 73,
   "id": "d61f7ffe-d0e7-4a77-b9da-a1747aff18b5",
   "metadata": {},
   "outputs": [
    {
     "data": {
      "text/plain": [
       "-2.4444444444190103"
      ]
     },
     "execution_count": 73,
     "metadata": {},
     "output_type": "execute_result"
    }
   ],
   "source": [
    "def D_central(f,x,h):\n",
    "    \"\"\"\n",
    "    ----------------------\n",
    "    Entrada\n",
    "    ----------------------\n",
    "    x: Punto evaluado\n",
    "    h: ditancia entre cada corte\n",
    "    f: Funcion\n",
    "    \"\"\"\n",
    "    df = (f(x+h/2) - f(x-h/2))/h\n",
    "    return df\n",
    "    \n",
    "def ExRch(x,f,g,h =1e-6 ,p = 2):\n",
    "    \"\"\"\n",
    "    --------------------------\n",
    "    Entrada\n",
    "    --------------------------\n",
    "    x: Punto evaluado\n",
    "    h: ditancia entre cada corte\n",
    "    p: Orden del error\n",
    "    f: Funcion\n",
    "    g: Derivada\n",
    "    \n",
    "    \"\"\"\n",
    "    G = (2**p *g(f,x,h/2) - g(f,x,h))/(2**p -1)\n",
    "    return G\n",
    "\n",
    "ExRch(6,lambda x: ((x+2)*(x-2))/((x-3)*(x-4)),D_central,1e-4)"
   ]
  }
 ],
 "metadata": {
  "kernelspec": {
   "display_name": "Python 3 (ipykernel)",
   "language": "python",
   "name": "python3"
  },
  "language_info": {
   "codemirror_mode": {
    "name": "ipython",
    "version": 3
   },
   "file_extension": ".py",
   "mimetype": "text/x-python",
   "name": "python",
   "nbconvert_exporter": "python",
   "pygments_lexer": "ipython3",
   "version": "3.9.12"
  }
 },
 "nbformat": 4,
 "nbformat_minor": 5
}
